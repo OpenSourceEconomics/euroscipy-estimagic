{
 "cells": [
  {
   "cell_type": "markdown",
   "id": "57dee0b6",
   "metadata": {},
   "source": [
    "# Picking Algorithms\n",
    "\n",
    "In this exercise you a code snippets for an optimization that fails silently. You need to fix it by selecting a different optimization algorithm. To make it a bit easier, we provide the criterion value at the optimum.\n",
    "\n",
    "If you find one that works, continue to search for one that works better. \n",
    "\n",
    "## Resources\n",
    "\n",
    "- [List of algorithms](https://estimagic.readthedocs.io/en/stable/algorithms.html)\n",
    "- [Documentation of algo_options](https://estimagic.readthedocs.io/en/stable/how_to_guides/optimization/how_to_specify_algorithm_and_algo_options.html)"
   ]
  },
  {
   "cell_type": "code",
   "execution_count": 1,
   "id": "e1fcb3fa",
   "metadata": {},
   "outputs": [],
   "source": [
    "import numpy as np\n",
    "import estimagic as em"
   ]
  },
  {
   "cell_type": "markdown",
   "id": "7b50a918",
   "metadata": {},
   "source": [
    "## Problem 1\n",
    "\n",
    "This is a modified version of the `powell_singular` function from the More and Wild benchmark set. `powell_singular` is a differentiable nonlinear least squares problem. \n",
    "\n",
    "Our modification consists of rounding the parameter vector to four digits before passing it to the original `powell_singular` function. This converts the function into a step function. "
   ]
  },
  {
   "cell_type": "code",
   "execution_count": 2,
   "id": "edced7fe",
   "metadata": {},
   "outputs": [],
   "source": [
    "def powell_steps(x):\n",
    "    x = x.round(4)\n",
    "    fvec = np.zeros(4)\n",
    "    fvec[0] = x[0] + 10 * x[1]\n",
    "    fvec[1] = np.sqrt(5.0) * (x[2] - x[3])\n",
    "    fvec[2] = (x[1] - 2 * x[2]) ** 2\n",
    "    fvec[3] = np.sqrt(10.0) * (x[0] - x[3]) ** 2\n",
    "    out = {\"root_contributions\": fvec, \"value\": np.dot(fvec, fvec)}\n",
    "    return out\n",
    "\n",
    "powell_start = np.array([3, -1, 0, 1])"
   ]
  },
  {
   "cell_type": "code",
   "execution_count": 3,
   "id": "c92ebf6b",
   "metadata": {},
   "outputs": [],
   "source": [
    "# optimal criterion value\n",
    "powell_criterion = 0"
   ]
  },
  {
   "cell_type": "code",
   "execution_count": 4,
   "id": "c1ba89c1",
   "metadata": {},
   "outputs": [
    {
     "data": {
      "text/plain": [
       "Minimize with 4 free parameters terminated successfully after 1 criterion evaluations, 1 derivative evaluations and 0 iterations.\n",
       "\n",
       "The value of criterion improved from 215.00000000000003 to 215.00000000000003.\n",
       "\n",
       "The scipy_lbfgsb algorithm reported: CONVERGENCE: NORM_OF_PROJECTED_GRADIENT_<=_PGTOL"
      ]
     },
     "execution_count": 4,
     "metadata": {},
     "output_type": "execute_result"
    }
   ],
   "source": [
    "res_powell = em.minimize(\n",
    "    criterion=powell_steps,\n",
    "    params=powell_start,\n",
    "    algorithm=\"scipy_lbfgsb\",\n",
    ")\n",
    "\n",
    "res_powell"
   ]
  },
  {
   "cell_type": "markdown",
   "id": "0ca9f8b4",
   "metadata": {},
   "source": [
    "---\n",
    "The optimization thinks it terminated \"successfully\" but when you look at `res.params` you see that it actually got stuck at the start values."
   ]
  },
  {
   "cell_type": "code",
   "execution_count": 5,
   "id": "0517af36",
   "metadata": {},
   "outputs": [
    {
     "data": {
      "text/plain": [
       "array([ 3., -1.,  0.,  1.])"
      ]
     },
     "execution_count": 5,
     "metadata": {},
     "output_type": "execute_result"
    }
   ],
   "source": [
    "res_powell.params"
   ]
  },
  {
   "cell_type": "markdown",
   "id": "91c451d2",
   "metadata": {},
   "source": [
    "## Task 1:\n",
    "\n",
    "- Try to understand why the algorithm `scipy_lbfgsb` got stuck at the start parameters.\n",
    "- Find an algorithm that converges to the optimum."
   ]
  },
  {
   "cell_type": "markdown",
   "id": "85f7a03e",
   "metadata": {},
   "source": [
    "## Solution 1:"
   ]
  },
  {
   "cell_type": "markdown",
   "id": "f6592811",
   "metadata": {},
   "source": []
  },
  {
   "cell_type": "code",
   "execution_count": 6,
   "id": "82863097",
   "metadata": {},
   "outputs": [],
   "source": []
  },
  {
   "cell_type": "code",
   "execution_count": 7,
   "id": "ad3df589",
   "metadata": {},
   "outputs": [
    {
     "data": {
      "text/plain": [
       "array([ 0.00795156, -0.00078252,  0.00372655,  0.00367902])"
      ]
     },
     "execution_count": 7,
     "metadata": {},
     "output_type": "execute_result"
    }
   ],
   "source": []
  },
  {
   "cell_type": "code",
   "execution_count": 8,
   "id": "a3c09b53",
   "metadata": {},
   "outputs": [
    {
     "data": {
      "text/plain": [
       "7.940018600000003e-09"
      ]
     },
     "execution_count": 8,
     "metadata": {},
     "output_type": "execute_result"
    }
   ],
   "source": []
  },
  {
   "cell_type": "markdown",
   "id": "22c61a61",
   "metadata": {},
   "source": []
  }
 ],
 "metadata": {
  "kernelspec": {
   "display_name": "Python 3 (ipykernel)",
   "language": "python",
   "name": "python3"
  },
  "language_info": {
   "codemirror_mode": {
    "name": "ipython",
    "version": 3
   },
   "file_extension": ".py",
   "mimetype": "text/x-python",
   "name": "python",
   "nbconvert_exporter": "python",
   "pygments_lexer": "ipython3",
   "version": "3.11.4"
  }
 },
 "nbformat": 4,
 "nbformat_minor": 5
}
