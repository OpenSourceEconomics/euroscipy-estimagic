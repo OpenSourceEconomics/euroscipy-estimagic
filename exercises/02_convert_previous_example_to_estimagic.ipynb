{
 "cells": [
  {
   "cell_type": "markdown",
   "id": "f33371be",
   "metadata": {},
   "source": [
    "# Switch to estimagic\n",
    "\n",
    "In this exercise, you will use estimagic to solve the previous exercise.\n",
    "\n",
    "## Resources\n",
    "\n",
    "- [estimagic optimization tutorial](https://estimagic.readthedocs.io/en/stable/getting_started/first_optimization_with_estimagic.html)"
   ]
  },
  {
   "cell_type": "code",
   "execution_count": null,
   "id": "8ba99ec7",
   "metadata": {},
   "outputs": [],
   "source": [
    "import estimagic as em\n",
    "import numpy as np"
   ]
  },
  {
   "cell_type": "markdown",
   "id": "e06cb065",
   "metadata": {},
   "source": [
    "## Task 1: Simple switch\n",
    "\n",
    "- Copy your criterion function and start parameters from the previous example without any changes. \n",
    "- Use `em.minimize` to solve the optimization problem. For reasons that will be mentioned later, estimagic has no default algorithm. You can set `algorithm=\"scipy_neldermead\"` for now and will learn how to pick algorithms later. \n",
    "- Look at `res.params` and `res.criterion` to make sure the optimization is succeeded.\n",
    "\n",
    "## Solution 1:"
   ]
  },
  {
   "cell_type": "code",
   "execution_count": null,
   "id": "b7a1e266",
   "metadata": {},
   "outputs": [],
   "source": []
  },
  {
   "cell_type": "code",
   "execution_count": null,
   "id": "b13a7827",
   "metadata": {},
   "outputs": [],
   "source": []
  },
  {
   "cell_type": "code",
   "execution_count": null,
   "id": "e75f860e",
   "metadata": {},
   "outputs": [],
   "source": []
  },
  {
   "cell_type": "code",
   "execution_count": null,
   "id": "f0321ce2",
   "metadata": {},
   "outputs": [],
   "source": []
  },
  {
   "cell_type": "markdown",
   "id": "31d2b24c",
   "metadata": {},
   "source": [
    "## Task 2: More flexible `params`\n",
    "\n",
    "In estimagic, parameters can be arbitrary [pytrees](https://jax.readthedocs.io/en/latest/pytrees.html). In the current example, a dictionary with the keys `\"a\"`, `\"b\"` and `\"c\"` would be a good choice. \n",
    "\n",
    "- Adjust your function such that it takes a dictionary of parameters instead of a flat numpy array.\n",
    "- Re-run the optimization with `em.minimize` with the start parameters given below.\n",
    "- Look at `res.params` and `res.criterion` to make sure that the optimization worked.\n",
    "\n",
    "## Solution 2:"
   ]
  },
  {
   "cell_type": "code",
   "execution_count": null,
   "id": "bdf77720",
   "metadata": {},
   "outputs": [],
   "source": []
  },
  {
   "cell_type": "code",
   "execution_count": null,
   "id": "1dc0dea3",
   "metadata": {},
   "outputs": [],
   "source": []
  },
  {
   "cell_type": "code",
   "execution_count": null,
   "id": "4286a366",
   "metadata": {},
   "outputs": [],
   "source": []
  },
  {
   "cell_type": "code",
   "execution_count": null,
   "id": "ea9eb053",
   "metadata": {},
   "outputs": [],
   "source": []
  },
  {
   "cell_type": "code",
   "execution_count": null,
   "id": "8abdc1a1",
   "metadata": {},
   "outputs": [],
   "source": []
  },
  {
   "cell_type": "markdown",
   "id": "3012eee0-c8e2-4d42-a197-15147e5dfc55",
   "metadata": {},
   "source": [
    "## Task 3: Plotting algorithms against each other\n",
    "\n",
    "- Run another minimization, but this time use `algorithm=\"nlopt_neldermead\"`. Store the optimization results in a dictionary called `results` with keys matching the algorithm names.\n",
    "- Use `em.criterion_plot` to visualize the convergence of your optimizations."
   ]
  },
  {
   "cell_type": "markdown",
   "id": "f2a1890b",
   "metadata": {},
   "source": [
    "## Solution 3:"
   ]
  },
  {
   "cell_type": "code",
   "execution_count": null,
   "id": "b579e528-78b4-4190-9213-4497f3ab11d0",
   "metadata": {},
   "outputs": [],
   "source": []
  },
  {
   "cell_type": "code",
   "execution_count": null,
   "id": "94711955",
   "metadata": {},
   "outputs": [],
   "source": []
  }
 ],
 "metadata": {
  "kernelspec": {
   "display_name": "Python 3 (ipykernel)",
   "language": "python",
   "name": "python3"
  },
  "language_info": {
   "codemirror_mode": {
    "name": "ipython",
    "version": 3
   },
   "file_extension": ".py",
   "mimetype": "text/x-python",
   "name": "python",
   "nbconvert_exporter": "python",
   "pygments_lexer": "ipython3",
   "version": "3.11.4"
  }
 },
 "nbformat": 4,
 "nbformat_minor": 5
}
