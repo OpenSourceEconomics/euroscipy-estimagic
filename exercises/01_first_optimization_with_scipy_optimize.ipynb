{
 "cells": [
  {
   "cell_type": "markdown",
   "id": "bc1add0f",
   "metadata": {},
   "source": [
    "# First Optimization\n",
    "\n",
    "In this exercise, you will code a criterion function for a numerical optimization from scratch and optimize it with `scipy.optimize`.\n",
    "\n",
    "## Resources\n",
    "\n",
    "- [scipy Documentation](https://docs.scipy.org/doc/scipy/reference/generated/scipy.optimize.minimize.html)\n",
    "\n",
    "\n",
    "## The criterion function\n",
    "\n",
    "**Notation**:\n",
    "\n",
    "- $a$ is a scalar floating point number.\n",
    "- $b$ is a vector of length 3.\n",
    "- $C$ is a 2 by 2 matrix.\n",
    "- $I_n$ is an n-dimensional identity matrix. (Use `np.eye`)\n",
    "- $|| . ||^2$ is the squared vector or matrix norm. (Use `np.sum((x - y)**2)`, see below for more information)\n",
    "\n",
    "**Criterion Function**:\n",
    "\n",
    "$f(a, b, C) = (a - \\pi)^2 + ||b - \\begin{pmatrix}0,1,2\\end{pmatrix}^\\top||^2 + ||C - I_2||^2$\n",
    "\n",
    "**Optimization problem**:\n",
    "\n",
    "$\\min_{a, b, C} f(a, b, C)$\n",
    "\n",
    "**Solution**:\n",
    "\n",
    "- $a = \\pi$\n",
    "- $b = \\begin{pmatrix}0,1,2\\end{pmatrix}^\\top$\n",
    "- $C = I_2$\n",
    "\n",
    "\n",
    "*Information on norm*:\n",
    "The vector norm is the Euclidean norm, the matrix norm is the Frobenius norm."
   ]
  },
  {
   "cell_type": "code",
   "execution_count": null,
   "id": "386890ff",
   "metadata": {},
   "outputs": [],
   "source": [
    "import numpy as np\n",
    "from scipy.optimize import minimize"
   ]
  },
  {
   "cell_type": "markdown",
   "id": "68043abd",
   "metadata": {},
   "source": [
    "## Task 1: Define the criterion function\n",
    "\n",
    "Note that for scipy.optimize, x has to be a 1-dimensional numpy array. Thus the first step in your criterion function is to parse the vector `x` into `a`, `b` and `C`.\n",
    "\n",
    "## Solution 1:"
   ]
  },
  {
   "cell_type": "code",
   "execution_count": null,
   "id": "e31fbcbb",
   "metadata": {},
   "outputs": [],
   "source": []
  },
  {
   "cell_type": "markdown",
   "id": "b7a849ae",
   "metadata": {},
   "source": [
    "## Task 2: Set up start parameters\n",
    "\n",
    "For simplicity, set all start parameters to 0.\n",
    "\n",
    "## Solution 2:"
   ]
  },
  {
   "cell_type": "code",
   "execution_count": null,
   "id": "79413d4b",
   "metadata": {},
   "outputs": [],
   "source": []
  },
  {
   "cell_type": "markdown",
   "id": "c1bb780d-233d-40bd-a4d4-83486b9bfe50",
   "metadata": {},
   "source": [
    "## Task 3: Minimize the criterion function with `scipy.minimize`\n",
    "\n",
    "_Test your solution:_ Given that you've computed the correct solution and stored it under the corresponding names `a`, `b` and `c`; the following code should run through without errors:\n",
    "\n",
    "```python\n",
    "from numpy.testing import assert_array_almost_equal\n",
    "\n",
    "assert_array_almost_equal(a, np.pi)\n",
    "assert_array_almost_equal(b, np.arange(3))\n",
    "assert_array_almost_equal(c, np.eye(2))\n",
    "```\n",
    "\n",
    "## Solution 3:"
   ]
  },
  {
   "cell_type": "code",
   "execution_count": null,
   "id": "678cede7",
   "metadata": {},
   "outputs": [],
   "source": []
  },
  {
   "cell_type": "code",
   "execution_count": null,
   "id": "4371783f",
   "metadata": {},
   "outputs": [],
   "source": []
  },
  {
   "cell_type": "code",
   "execution_count": null,
   "id": "358feaa3",
   "metadata": {},
   "outputs": [],
   "source": []
  },
  {
   "cell_type": "code",
   "execution_count": null,
   "id": "3105c23a",
   "metadata": {},
   "outputs": [],
   "source": []
  }
 ],
 "metadata": {
  "kernelspec": {
   "display_name": "Python 3 (ipykernel)",
   "language": "python",
   "name": "python3"
  },
  "language_info": {
   "codemirror_mode": {
    "name": "ipython",
    "version": 3
   },
   "file_extension": ".py",
   "mimetype": "text/x-python",
   "name": "python",
   "nbconvert_exporter": "python",
   "pygments_lexer": "ipython3",
   "version": "3.9.16"
  }
 },
 "nbformat": 4,
 "nbformat_minor": 5
}
