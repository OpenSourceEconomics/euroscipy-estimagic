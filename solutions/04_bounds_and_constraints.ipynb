{
 "cells": [
  {
   "cell_type": "markdown",
   "id": "c889506e",
   "metadata": {},
   "source": [
    "## Bounds and constraints (solution)\n",
    "\n",
    "In this exercise, you learn how to use bounds and simple constraints. \n",
    "\n",
    "Note that we will just scratch the surface of the topic. Look at the resources for more information. \n",
    "\n",
    "## Resources\n",
    "\n",
    "- [How to specify bounds](https://estimagic.readthedocs.io/en/stable/how_to_guides/optimization/how_to_specify_bounds.html)\n",
    "- [How to use constraints](https://estimagic.readthedocs.io/en/stable/how_to_guides/optimization/how_to_specify_constraints.html)\n",
    "- [Background: How constraints are implemented](https://estimagic.readthedocs.io/en/stable/explanations/optimization/implementation_of_constraints.html)\n",
    "\n",
    "## Example\n",
    "\n",
    "We reproduce the example from previous exercises for convenience."
   ]
  },
  {
   "cell_type": "code",
   "execution_count": 1,
   "id": "774762d1",
   "metadata": {},
   "outputs": [],
   "source": [
    "import estimagic as em\n",
    "import numpy as np\n",
    "\n",
    "\n",
    "def criterion(x):\n",
    "    value = (\n",
    "        (x[\"a\"] - np.pi) ** 2\n",
    "        + np.sum((x[\"b\"] - np.arange(3)) ** 2)\n",
    "        + np.sum((x[\"c\"] - np.eye(2)) ** 2)\n",
    "    )\n",
    "    return value\n",
    "\n",
    "\n",
    "start_params = {\"a\": 1, \"b\": np.ones(3), \"c\": np.ones((2, 2))}"
   ]
  },
  {
   "cell_type": "code",
   "execution_count": 2,
   "id": "13550ef6",
   "metadata": {},
   "outputs": [
    {
     "data": {
      "text/plain": [
       "{'a': 3.141592653589793,\n",
       " 'b': array([1.55630437e-16, 1.00000000e+00, 2.00000000e+00]),\n",
       " 'c': array([[ 1.00000000e+00, -4.50891722e-18],\n",
       "        [-4.51479888e-18,  1.00000000e+00]])}"
      ]
     },
     "execution_count": 2,
     "metadata": {},
     "output_type": "execute_result"
    }
   ],
   "source": [
    "res = em.minimize(\n",
    "    criterion=criterion,\n",
    "    params=start_params,\n",
    "    algorithm=\"nlopt_bobyqa\",\n",
    ")\n",
    "\n",
    "res.params"
   ]
  },
  {
   "cell_type": "markdown",
   "id": "3618be54",
   "metadata": {},
   "source": [
    "## Task 1: Bounds\n",
    "\n",
    "Repeat the optimization with an upper bound of 2.0 on `a` and a lower bound of 0.5 for all entries in `b`.\n",
    "\n",
    "## Solution 1:"
   ]
  },
  {
   "cell_type": "code",
   "execution_count": 3,
   "id": "37694bd8",
   "metadata": {},
   "outputs": [
    {
     "data": {
      "text/plain": [
       "{'a': 2.0,\n",
       " 'b': array([0.5, 1. , 2. ]),\n",
       " 'c': array([[1., 0.],\n",
       "        [0., 1.]])}"
      ]
     },
     "execution_count": 3,
     "metadata": {},
     "output_type": "execute_result"
    }
   ],
   "source": [
    "res = em.minimize(\n",
    "    criterion=criterion,\n",
    "    params=start_params,\n",
    "    algorithm=\"nlopt_bobyqa\",\n",
    "    lower_bounds={\"b\": 0.5 * np.ones_like(start_params[\"b\"])},\n",
    "    upper_bounds={\"a\": 2.0},\n",
    ")\n",
    "\n",
    "res.params"
   ]
  },
  {
   "cell_type": "markdown",
   "id": "5140ac87",
   "metadata": {},
   "source": [
    "## Task 2: Fixing parameters\n",
    "\n",
    "Remove the bounds, but now fix the parameter `a` as well as the top right entry in `c` (i.e., `x[\"c\"][0, 1]`) at their start value.\n",
    "\n",
    "## Solution 2:"
   ]
  },
  {
   "cell_type": "code",
   "execution_count": 4,
   "id": "bf40cf97",
   "metadata": {},
   "outputs": [
    {
     "data": {
      "text/plain": [
       "{'a': 1.0,\n",
       " 'b': array([0., 1., 2.]),\n",
       " 'c': array([[1., 1.],\n",
       "        [0., 1.]])}"
      ]
     },
     "execution_count": 4,
     "metadata": {},
     "output_type": "execute_result"
    }
   ],
   "source": [
    "res = em.minimize(\n",
    "    criterion=criterion,\n",
    "    params=start_params,\n",
    "    algorithm=\"nlopt_bobyqa\",\n",
    "    constraints=[\n",
    "        {\"type\": \"fixed\", \"selector\": lambda x: x[\"a\"]},\n",
    "        {\"type\": \"fixed\", \"selector\": lambda x: x[\"c\"][0, 1]},\n",
    "    ],\n",
    ")\n",
    "\n",
    "res.params"
   ]
  }
 ],
 "metadata": {
  "kernelspec": {
   "display_name": "Python 3 (ipykernel)",
   "language": "python",
   "name": "python3"
  },
  "language_info": {
   "codemirror_mode": {
    "name": "ipython",
    "version": 3
   },
   "file_extension": ".py",
   "mimetype": "text/x-python",
   "name": "python",
   "nbconvert_exporter": "python",
   "pygments_lexer": "ipython3",
   "version": "3.11.4"
  }
 },
 "nbformat": 4,
 "nbformat_minor": 5
}
